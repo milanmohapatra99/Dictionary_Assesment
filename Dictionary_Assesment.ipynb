{
 "cells": [
  {
   "cell_type": "code",
   "execution_count": 6,
   "id": "10776436",
   "metadata": {},
   "outputs": [
    {
     "name": "stdout",
     "output_type": "stream",
     "text": [
      "<class 'dict'>\n",
      "printing Students data .. \n",
      "{'Name': 'Joseph', 'Age': 25, 'Result': 'Passed', 'Rollno': '00211'}\n"
     ]
    }
   ],
   "source": [
    "# w.a.p to create a dictionary\n",
    "Student = {\"Name\": \"Joseph\", \"Age\": 25, \"Result\":\"Passed\",\"Rollno\":\"00211\"}  \n",
    "print(type(Student))  \n",
    "print(\"printing Students data .. \")  \n",
    "print(Student)   "
   ]
  },
  {
   "cell_type": "code",
   "execution_count": 7,
   "id": "77a6eb15",
   "metadata": {},
   "outputs": [
    {
     "name": "stdout",
     "output_type": "stream",
     "text": [
      "Empty Dictionary is: \n",
      "{}\n"
     ]
    }
   ],
   "source": [
    "dict = {}  \n",
    "print(\"Empty Dictionary is: \")  \n",
    "print(dict)  "
   ]
  },
  {
   "cell_type": "code",
   "execution_count": 8,
   "id": "6f895459",
   "metadata": {},
   "outputs": [
    {
     "name": "stdout",
     "output_type": "stream",
     "text": [
      "{'Aditi': 'Passed', 'Abhinash': 'Passed', 'Paresh': 'Passed', 'Vicky': 'Passed'}\n"
     ]
    }
   ],
   "source": [
    "# w.a.p to convert list to dictionary \n",
    "student = [\"Aditi\", \"Abhinash\", \"Paresh\", \"Vicky\"]  \n",
    "  \n",
    "student_dictionary = { stu : \"Passed\" for stu in student }  \n",
    "  \n",
    "print(student_dictionary)  "
   ]
  },
  {
   "cell_type": "code",
   "execution_count": null,
   "id": "d4d68943",
   "metadata": {},
   "outputs": [],
   "source": []
  }
 ],
 "metadata": {
  "kernelspec": {
   "display_name": "Python 3 (ipykernel)",
   "language": "python",
   "name": "python3"
  },
  "language_info": {
   "codemirror_mode": {
    "name": "ipython",
    "version": 3
   },
   "file_extension": ".py",
   "mimetype": "text/x-python",
   "name": "python",
   "nbconvert_exporter": "python",
   "pygments_lexer": "ipython3",
   "version": "3.9.7"
  }
 },
 "nbformat": 4,
 "nbformat_minor": 5
}
